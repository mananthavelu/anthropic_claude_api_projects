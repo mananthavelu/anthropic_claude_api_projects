{
 "cells": [
  {
   "cell_type": "code",
   "execution_count": 3,
   "id": "c9b94df8",
   "metadata": {},
   "outputs": [],
   "source": [
    "from dotenv import load_dotenv\n",
    "load_dotenv()\n",
    "\n",
    "from anthropic import Anthropic\n",
    "client = Anthropic()"
   ]
  },
  {
   "cell_type": "code",
   "execution_count": 4,
   "id": "a465e505",
   "metadata": {},
   "outputs": [],
   "source": [
    "def add_user_message(messages, text):\n",
    "    user_message = {\"role\":\"user\",\n",
    "                    \"content\": text}\n",
    "    messages.append(user_message)\n",
    "\n",
    "def add_assistant_message(messages, text):\n",
    "    assistant_message = {\"role\":\"assistant\",\n",
    "                    \"content\": text}\n",
    "    messages.append(assistant_message)\n",
    "\n",
    "def chat(messages):\n",
    "    message = client.messages.create(\n",
    "        model = model,\n",
    "        max_tokens = 1000,\n",
    "        messages = messages\n",
    "    )\n",
    "    return message.content[0].text\n",
    "model = \"claude-3-5-haiku-20241022\""
   ]
  },
  {
   "cell_type": "code",
   "execution_count": 8,
   "id": "91d26a7a",
   "metadata": {},
   "outputs": [
    {
     "data": {
      "text/plain": [
       "'Unlike traditional computers that use bits (0 or 1), quantum computers use quantum bits or qubits, which can exist in multiple states simultaneously, enabling them to solve highly complex problems in fields like cryptography, drug discovery, and optimization.'"
      ]
     },
     "execution_count": 8,
     "metadata": {},
     "output_type": "execute_result"
    }
   ],
   "source": [
    "# Initialize the conversation\n",
    "messages = []\n",
    "\n",
    "# Add user message\n",
    "add_user_message(messages, 'Define Quantum computing in one sentence')\n",
    "\n",
    "# Get the response\n",
    "answer = chat(messages)\n",
    "\n",
    "# Add assistant message to the conversation\n",
    "add_assistant_message(messages, answer)\n",
    "\n",
    "# Follow up question from the user\n",
    "add_user_message(messages, \"Write another sentence\")\n",
    "\n",
    "# Call chat again\n",
    "answer = chat(messages)\n",
    "messages.append(answer)\n",
    "answer"
   ]
  },
  {
   "cell_type": "code",
   "execution_count": 6,
   "id": "2d5464de",
   "metadata": {},
   "outputs": [
    {
     "data": {
      "text/plain": [
       "[{'role': 'user', 'content': 'Define Quantum computing in one sentence'},\n",
       " {'role': 'assistant',\n",
       "  'content': 'Quantum computing is a type of computing that uses quantum-mechanical phenomena, such as superposition and entanglement, to perform complex calculations exponentially faster than classical computers.'}]"
      ]
     },
     "execution_count": 6,
     "metadata": {},
     "output_type": "execute_result"
    }
   ],
   "source": [
    "messages"
   ]
  },
  {
   "cell_type": "code",
   "execution_count": 7,
   "id": "a6d37b05",
   "metadata": {},
   "outputs": [
    {
     "data": {
      "text/plain": [
       "'Quantum computing is a type of computing that uses quantum-mechanical phenomena, such as superposition and entanglement, to perform complex calculations exponentially faster than classical computers.'"
      ]
     },
     "execution_count": 7,
     "metadata": {},
     "output_type": "execute_result"
    }
   ],
   "source": [
    "answer"
   ]
  },
  {
   "cell_type": "code",
   "execution_count": null,
   "id": "93735439",
   "metadata": {},
   "outputs": [],
   "source": []
  }
 ],
 "metadata": {
  "kernelspec": {
   "display_name": "Python 3",
   "language": "python",
   "name": "python3"
  },
  "language_info": {
   "codemirror_mode": {
    "name": "ipython",
    "version": 3
   },
   "file_extension": ".py",
   "mimetype": "text/x-python",
   "name": "python",
   "nbconvert_exporter": "python",
   "pygments_lexer": "ipython3",
   "version": "3.12.2"
  }
 },
 "nbformat": 4,
 "nbformat_minor": 5
}
