{
 "cells": [
  {
   "cell_type": "code",
   "execution_count": 3,
   "id": "7872082e",
   "metadata": {},
   "outputs": [],
   "source": [
    "from dotenv import load_dotenv\n",
    "load_dotenv()\n",
    "\n",
    "from anthropic import Anthropic\n",
    "client = Anthropic()"
   ]
  },
  {
   "cell_type": "code",
   "execution_count": 4,
   "id": "020cf441",
   "metadata": {},
   "outputs": [],
   "source": [
    "# Initialize the messages\n",
    "messages = []\n",
    "model = \"claude-3-5-haiku-20241022\""
   ]
  },
  {
   "cell_type": "code",
   "execution_count": 5,
   "id": "13e0f426",
   "metadata": {},
   "outputs": [],
   "source": [
    "def add_user_message(messages, text):\n",
    "    user_message = {\"role\":\"user\",\n",
    "                    \"content\": text}\n",
    "    messages.append(user_message)\n",
    "\n",
    "def add_assistant_message(messages, text):\n",
    "    assistant_message = {\"role\":\"assistant\",\n",
    "                    \"content\": text}\n",
    "    messages.append(assistant_message)\n",
    "\n",
    "def chat(messages):\n",
    "    message = client.messages.create(\n",
    "        model = model,\n",
    "        max_tokens = 1000,\n",
    "        messages = messages\n",
    "    )\n",
    "    return message.content[0].text\n"
   ]
  },
  {
   "cell_type": "code",
   "execution_count": null,
   "id": "85800232",
   "metadata": {},
   "outputs": [
    {
     "name": "stdout",
     "output_type": "stream",
     "text": [
      "> My name is Mari and what is your name\n",
      "I'm Claude, an AI created by Anthropic. It's nice to meet you, Mari.\n",
      "> What is my name\n",
      "Your name is Mari, as you mentioned earlier.\n",
      "> Good. Now stop\n",
      "Is there something specific you would like me to do, or did you mean for me to stop our conversation?\n",
      "> yes stop our conversation\n",
      "Goodbye, Mari. Take care.\n"
     ]
    }
   ],
   "source": [
    "while True:\n",
    "    # Get user input\n",
    "    user_input = input(\"> \")\n",
    "    print(\">\", user_input)\n",
    "    # Add the user message to the context\n",
    "    add_user_message(messages, user_input)\n",
    "    # Generate the response\n",
    "    answer = chat(messages)\n",
    "    # Print the response\n",
    "    print(answer)\n",
    "    # Before prompting the next question, add the reponse to the context\n",
    "    add_assistant_message(messages, answer)"
   ]
  }
 ],
 "metadata": {
  "kernelspec": {
   "display_name": "Python 3",
   "language": "python",
   "name": "python3"
  },
  "language_info": {
   "codemirror_mode": {
    "name": "ipython",
    "version": 3
   },
   "file_extension": ".py",
   "mimetype": "text/x-python",
   "name": "python",
   "nbconvert_exporter": "python",
   "pygments_lexer": "ipython3",
   "version": "3.12.2"
  }
 },
 "nbformat": 4,
 "nbformat_minor": 5
}
