{
 "cells": [
  {
   "cell_type": "code",
   "execution_count": 14,
   "id": "2547ee71",
   "metadata": {},
   "outputs": [
    {
     "data": {
      "text/plain": [
       "True"
      ]
     },
     "execution_count": 14,
     "metadata": {},
     "output_type": "execute_result"
    }
   ],
   "source": [
    "from anthropic import Anthropic\n",
    "client = Anthropic()\n",
    "\n",
    "from dotenv import load_dotenv\n",
    "load_dotenv()"
   ]
  },
  {
   "cell_type": "code",
   "execution_count": null,
   "id": "8be80158",
   "metadata": {},
   "outputs": [],
   "source": [
    "messages = []\n",
    "model = \"claude-3-5-haiku-20241022\"\n",
    "\n",
    "def add_user_message(messages, user_prompt):\n",
    "    user_message = {\"role\": \"user\",\n",
    "                    \"content\": user_prompt}\n",
    "    messages.append(user_message)\n",
    "\n",
    "def add_assistant_message(messages, response_from_assistant):\n",
    "    assistant_message = {\"role\": \"assistant\",\n",
    "                         \"content\": response_from_assistant}\n",
    "    messages.append(assistant_message)\n",
    "\n",
    "def chat(messages, system = None, stop_sequences = []):\n",
    "    model_params = {\n",
    "        \"model\": model,\n",
    "        \"max_tokens\": 1000,\n",
    "        \"temperature\" : 0.0,\n",
    "        \"messages\": messages,\n",
    "        \"stream\": True,\n",
    "        \"stop_sequences\": stop_sequences\n",
    "    }\n",
    "    if system:\n",
    "        model_params[\"system\"] = system\n",
    "    with client.messages.stream(**model_params) as stream_response:    \n",
    "        for text in stream_response.text_stream:\n",
    "            print(text, end=\"\")"
   ]
  },
  {
   "cell_type": "code",
   "execution_count": 20,
   "id": "20dd211c",
   "metadata": {},
   "outputs": [],
   "source": [
    "user_prompt = \"Provide the headlines for today for Zurich\"\n",
    "system_prompt = \"Consider the query from the user.  If the query is not clear, refine to your best interpretation.\\\n",
    "    For the given city, look for the most often read online news channels by the residents in the city.\\\n",
    "    Across all these news channels, find out the top headlines which are common. Find such two headlines along with the available text\\\n",
    "    And response with these headlines along with the text in a json format.\"\n",
    "pre_filled_assistant_message = \"```json\"\n",
    "stop_message = \"```\""
   ]
  },
  {
   "cell_type": "code",
   "execution_count": 21,
   "id": "24973032",
   "metadata": {},
   "outputs": [
    {
     "ename": "TypeError",
     "evalue": "Messages.stream() got an unexpected keyword argument 'stream'",
     "output_type": "error",
     "traceback": [
      "\u001b[1;31m---------------------------------------------------------------------------\u001b[0m",
      "\u001b[1;31mTypeError\u001b[0m                                 Traceback (most recent call last)",
      "Cell \u001b[1;32mIn[21], line 3\u001b[0m\n\u001b[0;32m      1\u001b[0m add_user_message(messages, user_prompt)\n\u001b[0;32m      2\u001b[0m add_assistant_message(messages, pre_filled_assistant_message)\n\u001b[1;32m----> 3\u001b[0m \u001b[43mchat\u001b[49m\u001b[43m(\u001b[49m\u001b[43mmessages\u001b[49m\u001b[43m,\u001b[49m\u001b[43m \u001b[49m\u001b[43msystem\u001b[49m\u001b[43m \u001b[49m\u001b[38;5;241;43m=\u001b[39;49m\u001b[43m \u001b[49m\u001b[43msystem_prompt\u001b[49m\u001b[43m,\u001b[49m\u001b[43m \u001b[49m\u001b[43mstop_sequences\u001b[49m\u001b[43m \u001b[49m\u001b[38;5;241;43m=\u001b[39;49m\u001b[43m \u001b[49m\u001b[43mstop_message\u001b[49m\u001b[43m)\u001b[49m\n",
      "Cell \u001b[1;32mIn[19], line 25\u001b[0m, in \u001b[0;36mchat\u001b[1;34m(messages, system, stop_sequences)\u001b[0m\n\u001b[0;32m     23\u001b[0m \u001b[38;5;28;01mif\u001b[39;00m system:\n\u001b[0;32m     24\u001b[0m     model_params[\u001b[38;5;124m\"\u001b[39m\u001b[38;5;124msystem\u001b[39m\u001b[38;5;124m\"\u001b[39m] \u001b[38;5;241m=\u001b[39m system\n\u001b[1;32m---> 25\u001b[0m stream_response \u001b[38;5;241m=\u001b[39m \u001b[43mclient\u001b[49m\u001b[38;5;241;43m.\u001b[39;49m\u001b[43mmessages\u001b[49m\u001b[38;5;241;43m.\u001b[39;49m\u001b[43mstream\u001b[49m\u001b[43m(\u001b[49m\u001b[38;5;241;43m*\u001b[39;49m\u001b[38;5;241;43m*\u001b[39;49m\u001b[43mmodel_params\u001b[49m\u001b[43m)\u001b[49m\n\u001b[0;32m     27\u001b[0m \u001b[38;5;28;01mfor\u001b[39;00m text \u001b[38;5;129;01min\u001b[39;00m stream_response\u001b[38;5;241m.\u001b[39mtext_stream:\n\u001b[0;32m     28\u001b[0m     \u001b[38;5;28mprint\u001b[39m(text, end\u001b[38;5;241m=\u001b[39m\u001b[38;5;124m\"\u001b[39m\u001b[38;5;124m\"\u001b[39m)\n",
      "\u001b[1;31mTypeError\u001b[0m: Messages.stream() got an unexpected keyword argument 'stream'"
     ]
    }
   ],
   "source": [
    "add_user_message(messages, user_prompt)\n",
    "add_assistant_message(messages, pre_filled_assistant_message)\n",
    "chat(messages, system = system_prompt, stop_sequences = stop_message)"
   ]
  },
  {
   "cell_type": "code",
   "execution_count": null,
   "id": "b69130fc",
   "metadata": {},
   "outputs": [],
   "source": []
  }
 ],
 "metadata": {
  "kernelspec": {
   "display_name": "Python 3",
   "language": "python",
   "name": "python3"
  },
  "language_info": {
   "codemirror_mode": {
    "name": "ipython",
    "version": 3
   },
   "file_extension": ".py",
   "mimetype": "text/x-python",
   "name": "python",
   "nbconvert_exporter": "python",
   "pygments_lexer": "ipython3",
   "version": "3.12.2"
  }
 },
 "nbformat": 4,
 "nbformat_minor": 5
}
